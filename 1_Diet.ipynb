{
 "cells": [
  {
   "cell_type": "markdown",
   "metadata": {},
   "source": [
    "<table>\n",
    "<tr>\n",
    "<td width=15%><img src=\"./img/UGA.png\"></img></td>\n",
    "<td><center><h1>Introduction à la Recherche Opérationelle</h1><br/>M2 Statistique Science des Données (SSD)</center></td>\n",
    "<td width=15%>\n",
    "<a href=\"https://www-ljk.imag.fr/membres/Anatoli.Iouditski/\" style=\"font-size: 16px; font-weight: bold\">Anatoli Juditsky</a><br/>\n",
    "<a href=\"http://www.iutzeler.org\" style=\"font-size: 16px; font-weight: bold\">Franck Iutzeler</a><br/></td>\n",
    "</tr>\n",
    "</table>"
   ]
  },
  {
   "cell_type": "markdown",
   "metadata": {},
   "source": [
    "<br/><br/>\n",
    "<center><a style=\"font-size: 30pt; font-weight: bold\">TP 1 - Planification de Regime </a></center>\n",
    "<br/><br/>"
   ]
  },
  {
   "cell_type": "markdown",
   "metadata": {},
   "source": [
    "# 1- Récupération des données\n",
    "\n",
    "## Menu"
   ]
  },
  {
   "cell_type": "code",
   "execution_count": 1,
   "metadata": {},
   "outputs": [],
   "source": [
    "import cvxpy as cp\n",
    "import pandas as pd\n",
    "import numpy as np"
   ]
  },
  {
   "cell_type": "code",
   "execution_count": 2,
   "metadata": {},
   "outputs": [],
   "source": [
    "foods = pd.read_csv(\"data/food.dat\",sep='\\t')\n",
    "n,p = foods.shape "
   ]
  },
  {
   "cell_type": "markdown",
   "metadata": {},
   "source": [
    "Le tableau `foods` contient tous les aliments présent à la carte d'un restaurant avec leurs informations nutritionelles."
   ]
  },
  {
   "cell_type": "code",
   "execution_count": 3,
   "metadata": {},
   "outputs": [
    {
     "data": {
      "text/html": [
       "<div>\n",
       "<style scoped>\n",
       "    .dataframe tbody tr th:only-of-type {\n",
       "        vertical-align: middle;\n",
       "    }\n",
       "\n",
       "    .dataframe tbody tr th {\n",
       "        vertical-align: top;\n",
       "    }\n",
       "\n",
       "    .dataframe thead th {\n",
       "        text-align: right;\n",
       "    }\n",
       "</style>\n",
       "<table border=\"1\" class=\"dataframe\">\n",
       "  <thead>\n",
       "    <tr style=\"text-align: right;\">\n",
       "      <th></th>\n",
       "      <th>Food</th>\n",
       "      <th>Cal</th>\n",
       "      <th>CalFat</th>\n",
       "      <th>Fat</th>\n",
       "      <th>SatFat</th>\n",
       "      <th>Chol</th>\n",
       "      <th>Sodium</th>\n",
       "      <th>Carbo</th>\n",
       "      <th>Protein</th>\n",
       "      <th>VitA</th>\n",
       "      <th>VitC</th>\n",
       "      <th>Calcium</th>\n",
       "      <th>Iron</th>\n",
       "    </tr>\n",
       "  </thead>\n",
       "  <tbody>\n",
       "    <tr>\n",
       "      <th>0</th>\n",
       "      <td>1%_Low_Fat_Milk_Jug 1_carton_(236_ml)         ...</td>\n",
       "      <td>100</td>\n",
       "      <td>20</td>\n",
       "      <td>2</td>\n",
       "      <td>1</td>\n",
       "      <td>10</td>\n",
       "      <td>125</td>\n",
       "      <td>12</td>\n",
       "      <td>8</td>\n",
       "      <td>10</td>\n",
       "      <td>4</td>\n",
       "      <td>30</td>\n",
       "      <td>0</td>\n",
       "    </tr>\n",
       "    <tr>\n",
       "      <th>1</th>\n",
       "      <td>Apple_Slices 1.2_oz_(34_g)                    ...</td>\n",
       "      <td>15</td>\n",
       "      <td>0</td>\n",
       "      <td>0</td>\n",
       "      <td>0</td>\n",
       "      <td>0</td>\n",
       "      <td>0</td>\n",
       "      <td>4</td>\n",
       "      <td>0</td>\n",
       "      <td>0</td>\n",
       "      <td>160</td>\n",
       "      <td>2</td>\n",
       "      <td>0</td>\n",
       "    </tr>\n",
       "    <tr>\n",
       "      <th>2</th>\n",
       "      <td>BBQ_Ranch_Burger 4.1_oz_(116_g)               ...</td>\n",
       "      <td>350</td>\n",
       "      <td>140</td>\n",
       "      <td>16</td>\n",
       "      <td>6</td>\n",
       "      <td>45</td>\n",
       "      <td>680</td>\n",
       "      <td>37</td>\n",
       "      <td>16</td>\n",
       "      <td>4</td>\n",
       "      <td>0</td>\n",
       "      <td>20</td>\n",
       "      <td>15</td>\n",
       "    </tr>\n",
       "    <tr>\n",
       "      <th>3</th>\n",
       "      <td>Bacon,_Egg_&amp;_Cheese_Bagel 7_oz_(199_g)        ...</td>\n",
       "      <td>630</td>\n",
       "      <td>290</td>\n",
       "      <td>32</td>\n",
       "      <td>11</td>\n",
       "      <td>275</td>\n",
       "      <td>1490</td>\n",
       "      <td>57</td>\n",
       "      <td>30</td>\n",
       "      <td>20</td>\n",
       "      <td>15</td>\n",
       "      <td>20</td>\n",
       "      <td>20</td>\n",
       "    </tr>\n",
       "    <tr>\n",
       "      <th>4</th>\n",
       "      <td>Bacon,_Egg_&amp;_Cheese_Bagel_with_Egg_Whites 7.2_...</td>\n",
       "      <td>580</td>\n",
       "      <td>230</td>\n",
       "      <td>26</td>\n",
       "      <td>9</td>\n",
       "      <td>60</td>\n",
       "      <td>1490</td>\n",
       "      <td>55</td>\n",
       "      <td>30</td>\n",
       "      <td>10</td>\n",
       "      <td>15</td>\n",
       "      <td>20</td>\n",
       "      <td>15</td>\n",
       "    </tr>\n",
       "    <tr>\n",
       "      <th>...</th>\n",
       "      <td>...</td>\n",
       "      <td>...</td>\n",
       "      <td>...</td>\n",
       "      <td>...</td>\n",
       "      <td>...</td>\n",
       "      <td>...</td>\n",
       "      <td>...</td>\n",
       "      <td>...</td>\n",
       "      <td>...</td>\n",
       "      <td>...</td>\n",
       "      <td>...</td>\n",
       "      <td>...</td>\n",
       "      <td>...</td>\n",
       "    </tr>\n",
       "    <tr>\n",
       "      <th>300</th>\n",
       "      <td>Vanilla_McCafe_Shake_(12_fl_oz_cup) 12_fl_oz  ...</td>\n",
       "      <td>530</td>\n",
       "      <td>140</td>\n",
       "      <td>15</td>\n",
       "      <td>10</td>\n",
       "      <td>60</td>\n",
       "      <td>160</td>\n",
       "      <td>86</td>\n",
       "      <td>11</td>\n",
       "      <td>20</td>\n",
       "      <td>0</td>\n",
       "      <td>40</td>\n",
       "      <td>0</td>\n",
       "    </tr>\n",
       "    <tr>\n",
       "      <th>301</th>\n",
       "      <td>Vanilla_McCafe_Shake_(16_fl_oz_cup) 16_fl_oz  ...</td>\n",
       "      <td>660</td>\n",
       "      <td>170</td>\n",
       "      <td>19</td>\n",
       "      <td>12</td>\n",
       "      <td>75</td>\n",
       "      <td>200</td>\n",
       "      <td>109</td>\n",
       "      <td>14</td>\n",
       "      <td>25</td>\n",
       "      <td>0</td>\n",
       "      <td>50</td>\n",
       "      <td>0</td>\n",
       "    </tr>\n",
       "    <tr>\n",
       "      <th>302</th>\n",
       "      <td>Vanilla_McCafe_Shake_(22_fl_oz_cup) 22_fl_oz  ...</td>\n",
       "      <td>820</td>\n",
       "      <td>210</td>\n",
       "      <td>23</td>\n",
       "      <td>15</td>\n",
       "      <td>90</td>\n",
       "      <td>260</td>\n",
       "      <td>135</td>\n",
       "      <td>18</td>\n",
       "      <td>30</td>\n",
       "      <td>0</td>\n",
       "      <td>60</td>\n",
       "      <td>0</td>\n",
       "    </tr>\n",
       "    <tr>\n",
       "      <th>303</th>\n",
       "      <td>Vanilla_Reduced_Fat_Ice_Cream_Cone 3.7_oz_(105...</td>\n",
       "      <td>170</td>\n",
       "      <td>40</td>\n",
       "      <td>4</td>\n",
       "      <td>3</td>\n",
       "      <td>15</td>\n",
       "      <td>70</td>\n",
       "      <td>27</td>\n",
       "      <td>5</td>\n",
       "      <td>6</td>\n",
       "      <td>0</td>\n",
       "      <td>15</td>\n",
       "      <td>2</td>\n",
       "    </tr>\n",
       "    <tr>\n",
       "      <th>304</th>\n",
       "      <td>Whipped_Margarine_(1_pat) 1_pkg_(6_g)         ...</td>\n",
       "      <td>40</td>\n",
       "      <td>40</td>\n",
       "      <td>4</td>\n",
       "      <td>1</td>\n",
       "      <td>0</td>\n",
       "      <td>55</td>\n",
       "      <td>0</td>\n",
       "      <td>0</td>\n",
       "      <td>4</td>\n",
       "      <td>0</td>\n",
       "      <td>0</td>\n",
       "      <td>0</td>\n",
       "    </tr>\n",
       "  </tbody>\n",
       "</table>\n",
       "<p>305 rows × 13 columns</p>\n",
       "</div>"
      ],
      "text/plain": [
       "                                                  Food  Cal  CalFat  Fat  \\\n",
       "0    1%_Low_Fat_Milk_Jug 1_carton_(236_ml)         ...  100      20    2   \n",
       "1    Apple_Slices 1.2_oz_(34_g)                    ...   15       0    0   \n",
       "2    BBQ_Ranch_Burger 4.1_oz_(116_g)               ...  350     140   16   \n",
       "3    Bacon,_Egg_&_Cheese_Bagel 7_oz_(199_g)        ...  630     290   32   \n",
       "4    Bacon,_Egg_&_Cheese_Bagel_with_Egg_Whites 7.2_...  580     230   26   \n",
       "..                                                 ...  ...     ...  ...   \n",
       "300  Vanilla_McCafe_Shake_(12_fl_oz_cup) 12_fl_oz  ...  530     140   15   \n",
       "301  Vanilla_McCafe_Shake_(16_fl_oz_cup) 16_fl_oz  ...  660     170   19   \n",
       "302  Vanilla_McCafe_Shake_(22_fl_oz_cup) 22_fl_oz  ...  820     210   23   \n",
       "303  Vanilla_Reduced_Fat_Ice_Cream_Cone 3.7_oz_(105...  170      40    4   \n",
       "304  Whipped_Margarine_(1_pat) 1_pkg_(6_g)         ...   40      40    4   \n",
       "\n",
       "     SatFat  Chol  Sodium  Carbo  Protein  VitA  VitC  Calcium  Iron  \n",
       "0         1    10     125     12        8    10     4       30     0  \n",
       "1         0     0       0      4        0     0   160        2     0  \n",
       "2         6    45     680     37       16     4     0       20    15  \n",
       "3        11   275    1490     57       30    20    15       20    20  \n",
       "4         9    60    1490     55       30    10    15       20    15  \n",
       "..      ...   ...     ...    ...      ...   ...   ...      ...   ...  \n",
       "300      10    60     160     86       11    20     0       40     0  \n",
       "301      12    75     200    109       14    25     0       50     0  \n",
       "302      15    90     260    135       18    30     0       60     0  \n",
       "303       3    15      70     27        5     6     0       15     2  \n",
       "304       1     0      55      0        0     4     0        0     0  \n",
       "\n",
       "[305 rows x 13 columns]"
      ]
     },
     "execution_count": 3,
     "metadata": {},
     "output_type": "execute_result"
    }
   ],
   "source": [
    "foods"
   ]
  },
  {
   "cell_type": "code",
   "execution_count": 4,
   "metadata": {},
   "outputs": [
    {
     "data": {
      "text/plain": [
       "305"
      ]
     },
     "execution_count": 4,
     "metadata": {},
     "output_type": "execute_result"
    }
   ],
   "source": [
    "n"
   ]
  },
  {
   "cell_type": "markdown",
   "metadata": {},
   "source": [
    "## Alimentation idéale en termes de nutriments"
   ]
  },
  {
   "cell_type": "code",
   "execution_count": 5,
   "metadata": {},
   "outputs": [],
   "source": [
    "nutr = pd.read_csv(\"data/nutr_ideal.dat\",sep=' ')"
   ]
  },
  {
   "cell_type": "markdown",
   "metadata": {},
   "source": [
    "La tableau `nutr` contient les valeurs pour une alimentation *optimale* en terme de nutriments."
   ]
  },
  {
   "cell_type": "code",
   "execution_count": 6,
   "metadata": {},
   "outputs": [
    {
     "data": {
      "text/html": [
       "<div>\n",
       "<style scoped>\n",
       "    .dataframe tbody tr th:only-of-type {\n",
       "        vertical-align: middle;\n",
       "    }\n",
       "\n",
       "    .dataframe tbody tr th {\n",
       "        vertical-align: top;\n",
       "    }\n",
       "\n",
       "    .dataframe thead th {\n",
       "        text-align: right;\n",
       "    }\n",
       "</style>\n",
       "<table border=\"1\" class=\"dataframe\">\n",
       "  <thead>\n",
       "    <tr style=\"text-align: right;\">\n",
       "      <th></th>\n",
       "      <th>CalFat</th>\n",
       "      <th>Fat</th>\n",
       "      <th>SatFat</th>\n",
       "      <th>Chol</th>\n",
       "      <th>Sodium</th>\n",
       "      <th>Carbo</th>\n",
       "      <th>Protein</th>\n",
       "      <th>VitA</th>\n",
       "      <th>VitC</th>\n",
       "      <th>Calcium</th>\n",
       "      <th>Iron</th>\n",
       "    </tr>\n",
       "  </thead>\n",
       "  <tbody>\n",
       "    <tr>\n",
       "      <th>0</th>\n",
       "      <td>600</td>\n",
       "      <td>65</td>\n",
       "      <td>20</td>\n",
       "      <td>300</td>\n",
       "      <td>2400</td>\n",
       "      <td>300</td>\n",
       "      <td>50</td>\n",
       "      <td>100</td>\n",
       "      <td>100</td>\n",
       "      <td>100</td>\n",
       "      <td>100</td>\n",
       "    </tr>\n",
       "  </tbody>\n",
       "</table>\n",
       "</div>"
      ],
      "text/plain": [
       "   CalFat  Fat  SatFat  Chol  Sodium  Carbo  Protein  VitA  VitC  Calcium  \\\n",
       "0     600   65      20   300    2400    300       50   100   100      100   \n",
       "\n",
       "   Iron  \n",
       "0   100  "
      ]
     },
     "execution_count": 6,
     "metadata": {},
     "output_type": "execute_result"
    }
   ],
   "source": [
    "nutr"
   ]
  },
  {
   "cell_type": "markdown",
   "metadata": {},
   "source": [
    "# 2- Trouver un régime optimal\n",
    "\n",
    "## Combinaisons pour une alimentation pauvre en calories\n",
    "\n",
    "Pour commencer, nous allons essayer de trouver une combinaison $x\\in\\mathbb{R}^n$ des aliments ($x_i$ correspondant à la quantité d'aliment $i$ prise) qui minimise le total de calories sous contrainte de rester idéal vis à vis des *nutriments* (CalFat, Fat, VitA, etc.)"
   ]
  },
  {
   "cell_type": "markdown",
   "metadata": {},
   "source": [
    "> **Question:** Formaliser et résoudre le problème décrit ci-dessus. Qu'observez-vous sur la solution?"
   ]
  },
  {
   "cell_type": "markdown",
   "metadata": {},
   "source": [
    "* Fonction objective linéaire à minimiser: $c^\\mathrm{T}x$ où $c$ contient les calories par aliment"
   ]
  },
  {
   "cell_type": "code",
   "execution_count": null,
   "metadata": {},
   "outputs": [],
   "source": []
  },
  {
   "cell_type": "markdown",
   "metadata": {},
   "source": [
    "* Contrainte à vérifier: $x$ est positif (par de quantités négatives d'aliments) et $Ax=b$ où $A$ contient les valeurs des nutriments par aliment et $b$ contient les valeurs idéales"
   ]
  },
  {
   "cell_type": "code",
   "execution_count": null,
   "metadata": {},
   "outputs": [],
   "source": []
  },
  {
   "cell_type": "markdown",
   "metadata": {},
   "source": [
    "* Resolution par CVXPY\n",
    "\n",
    "Attention, utilisez le Solver \"ECOS\" \n",
    "\n",
    "        prob.solve(verbose=True,solver=\"ECOS\")\n",
    "        \n",
    "le solveur par défaut peut donner de fausses informations..."
   ]
  },
  {
   "cell_type": "code",
   "execution_count": null,
   "metadata": {},
   "outputs": [],
   "source": []
  },
  {
   "cell_type": "markdown",
   "metadata": {},
   "source": [
    "## Relaxation des contraintes\n",
    "\n",
    "\n",
    "Le problème précedent n'avait pas de point faisable avec les contraintes imposées. Afin d'obtenir des points faisable, nous allons remplacer la contrainte\n",
    "$$ Ax = b $$\n",
    "par les deux contraintes de type *boite*\n",
    "$$ Ax \\geq 0.8 b ~~ \\text{ et  } ~~ Ax \\leq b $$\n",
    "ainsi les contraintes de nutriments sont satisfaites entre 80 et 100% et le problème devient faisable."
   ]
  },
  {
   "cell_type": "markdown",
   "metadata": {},
   "source": [
    "> **Question:** Définir les deux contraintes de boite et resoudre le problème. Vérifier qu'il est faisable."
   ]
  },
  {
   "cell_type": "code",
   "execution_count": null,
   "metadata": {},
   "outputs": [],
   "source": []
  },
  {
   "cell_type": "markdown",
   "metadata": {},
   "source": [
    "> **Question:** Affichez les valeur des nutriments pour la solution obtenue et la comparer à 80% et 100% des valeurs prescrites."
   ]
  },
  {
   "cell_type": "code",
   "execution_count": null,
   "metadata": {},
   "outputs": [],
   "source": []
  },
  {
   "cell_type": "markdown",
   "metadata": {},
   "source": [
    "> **Question:** Donner le nombre de calories totales et les aliments pour lesquelles la quantité est supérieure à 0.3."
   ]
  },
  {
   "cell_type": "code",
   "execution_count": null,
   "metadata": {},
   "outputs": [],
   "source": []
  },
  {
   "cell_type": "markdown",
   "metadata": {},
   "source": [
    "On remarque que la solution n'est pas pratique! "
   ]
  },
  {
   "cell_type": "markdown",
   "metadata": {},
   "source": [
    "## D'autres contraintes\n",
    "\n",
    "On va imposer:\n",
    "* pas de `EQUAL_0_Calorie_Sweetener 1_pkg_(1.0_g)` (item $73$) ni de `SPLENDA_No_Calorie_Sweetener 1_pkg_(1.0_g) :  30.9360336697206` (item $248$)  car c'est pas très bon\n",
    "* pas plus de 10 unités dans le menu, pas plus de 2 unités par item\n",
    "* au moins un petit déjeuner (items 3 à 22)\n",
    "\n",
    "Relacher au besoin les contraintes de nutrition..."
   ]
  },
  {
   "cell_type": "markdown",
   "metadata": {},
   "source": [
    "> **Question :** Implémenter ces contraintes une par une et regarder la valeur optimale de la fonction (le nombre de calories). Cette valeur augmente-t-elle ou diminue-t-elle ? Pourquoi ?"
   ]
  },
  {
   "cell_type": "code",
   "execution_count": null,
   "metadata": {},
   "outputs": [],
   "source": []
  },
  {
   "cell_type": "code",
   "execution_count": null,
   "metadata": {},
   "outputs": [],
   "source": []
  },
  {
   "cell_type": "code",
   "execution_count": null,
   "metadata": {},
   "outputs": [],
   "source": []
  },
  {
   "cell_type": "markdown",
   "metadata": {},
   "source": [
    "# 3- D'autres problèmes"
   ]
  },
  {
   "cell_type": "markdown",
   "metadata": {},
   "source": [
    "Beaucoup d'autres problèmes de ce genre existent. Ci-dessous vous trouverez un nouveau problème mais vous êtes également invités à inventer vos propres problèmes et chercher si ils sont solvables par CVXPY ! "
   ]
  },
  {
   "cell_type": "markdown",
   "metadata": {},
   "source": [
    "> **Question :** Quels sont les aliments à choisir pour obtenir *au moins* les nutriments recommendés en un minimum d'unités ? "
   ]
  },
  {
   "cell_type": "code",
   "execution_count": null,
   "metadata": {},
   "outputs": [],
   "source": []
  },
  {
   "cell_type": "markdown",
   "metadata": {},
   "source": [
    "> **Question :** Quels nutriments sont les plus dur à obtenir (on pourra regarder la valeur de la variable duale) ? "
   ]
  },
  {
   "cell_type": "code",
   "execution_count": null,
   "metadata": {},
   "outputs": [],
   "source": []
  },
  {
   "cell_type": "markdown",
   "metadata": {},
   "source": [
    "# 4- Programmation entière [*]"
   ]
  },
  {
   "cell_type": "markdown",
   "metadata": {},
   "source": [
    "Les solutions obtenues précédemment sont des solutions *continues*, alors que l'on commande généralement un nombre entier d'items. Les problèmes d'optimisation avec variables entières appellés (Mixed) Integer Programs, se résolvent avec des méthodes et des solveurs différents. CVXPY appellant différents solveurs nativement, cette opération est transparente ici. "
   ]
  },
  {
   "cell_type": "markdown",
   "metadata": {},
   "source": [
    "## Les différences pour la programmation en nombre entier\n",
    "\n",
    "* le type de la variable qui doit être précisé lors de la déclaration à CVXPY\n",
    "\n",
    "        x = cp.Variable(n,integer=True) \n",
    "\n",
    "* le solver (qui doit etre capable de faire des MIP) (mais c'est transparent pour nous ici)"
   ]
  },
  {
   "cell_type": "markdown",
   "metadata": {},
   "source": [
    "> **Question:** Reprendre le problème relaxé plus haut (minimisation des calories entre 80% et 100% des contraintes de nutrition) en ajoutant que la variable $x$ est maintenant à valeur entières. Le problème est-il toujours faisable?"
   ]
  },
  {
   "cell_type": "code",
   "execution_count": null,
   "metadata": {},
   "outputs": [],
   "source": []
  },
  {
   "cell_type": "markdown",
   "metadata": {},
   "source": [
    "### Relaxation des contraintes\n",
    "\n",
    "Les problemes MIP (Mixed Integer Programs) sont en général beaucoup plus dur car trouver des points admissibles est difficile."
   ]
  },
  {
   "cell_type": "markdown",
   "metadata": {},
   "source": [
    "> **Question :** Relaxez des contraintes jusqu'a obtenir un problème faisable et observez la solution."
   ]
  },
  {
   "cell_type": "code",
   "execution_count": null,
   "metadata": {},
   "outputs": [],
   "source": []
  }
 ],
 "metadata": {
  "kernelspec": {
   "display_name": "Python 3",
   "language": "python",
   "name": "python3"
  },
  "language_info": {
   "codemirror_mode": {
    "name": "ipython",
    "version": 3
   },
   "file_extension": ".py",
   "mimetype": "text/x-python",
   "name": "python",
   "nbconvert_exporter": "python",
   "pygments_lexer": "ipython3",
   "version": "3.8.10"
  },
  "varInspector": {
   "cols": {
    "lenName": 16,
    "lenType": 16,
    "lenVar": 40
   },
   "kernels_config": {
    "python": {
     "delete_cmd_postfix": "",
     "delete_cmd_prefix": "del ",
     "library": "var_list.py",
     "varRefreshCmd": "print(var_dic_list())"
    },
    "r": {
     "delete_cmd_postfix": ") ",
     "delete_cmd_prefix": "rm(",
     "library": "var_list.r",
     "varRefreshCmd": "cat(var_dic_list()) "
    }
   },
   "types_to_exclude": [
    "module",
    "function",
    "builtin_function_or_method",
    "instance",
    "_Feature"
   ],
   "window_display": false
  }
 },
 "nbformat": 4,
 "nbformat_minor": 1
}
